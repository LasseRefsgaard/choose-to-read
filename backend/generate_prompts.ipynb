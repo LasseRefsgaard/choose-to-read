{
 "cells": [
  {
   "cell_type": "code",
   "execution_count": 5,
   "metadata": {},
   "outputs": [],
   "source": [
    "\n",
    "import json\n",
    "\n",
    "from langchain.prompts import PromptTemplate\n",
    "\n",
    "# Define a prompt template\n",
    "template = \"Du er en dansk børnbogsforfatter der skriver bøger for at lære børn at læse. Du skriver altid på Dansk og er opmræksom på at bruge korrekt danske grammatik.\"\n",
    "prompt_name = \"danish_story_writer\"\n",
    "prompt = PromptTemplate(\n",
    "    name=prompt_name,\n",
    "    tags=['system_instructions'],\n",
    "    template=template\n",
    ")\n",
    "\n",
    "with open(f\"{prompt_name}.json\", \"w\") as f:\n",
    "    json.dump(prompt.dict(), f)\n",
    "       \n",
    "\n"
   ]
  },
  {
   "cell_type": "code",
   "execution_count": 11,
   "metadata": {},
   "outputs": [],
   "source": [
    "template = \"Fortæl en historie om {theme}. Historien må højest være 5 sætninger lang.\"\n",
    "prompt = PromptTemplate(\n",
    "    name=\"initial_story_prompt\",\n",
    "    input_variables=[\"theme\"],\n",
    "    template=template,\n",
    "    tags=[\"prompt\"]\n",
    ")\n",
    "\n",
    "with open(\"prompts/initial_story_prompt.json\", \"w\") as f:\n",
    "    json.dump(prompt.dict(), f)\n"
   ]
  },
  {
   "cell_type": "code",
   "execution_count": 12,
   "metadata": {},
   "outputs": [
    {
     "name": "stdout",
     "output_type": "stream",
     "text": [
      "Du er en dansk bÃ¸rnbogsforfatter der skriver bÃ¸ger for at lÃ¦re bÃ¸rn at lÃ¦se. Du skriver altid pÃ¥ Dansk og er opmrÃ¦ksom pÃ¥ at bruge korrekt danske grammatik.\n"
     ]
    }
   ],
   "source": [
    "with open(\"prompts/danish_story_writer.json\", \"r\") as f:\n",
    "    loaded_prompt = json.load(f)\n",
    "\n",
    "    # Get the template text\n",
    "system_instructions = loaded_prompt.get(\"template\", \"\")\n",
    "\n",
    "print(system_instructions)\n"
   ]
  },
  {
   "cell_type": "code",
   "execution_count": 19,
   "metadata": {},
   "outputs": [],
   "source": [
    "from json_prompts import prompt_template_from_json\n",
    "# Load prompts\n",
    "system_prompt_template = prompt_template_from_json(\"danish_story_writer\")\n",
    "story_prompt_template = prompt_template_from_json(\"initial_story_prompt\")\n",
    "story_prompt = story_prompt_template.format(theme=theme)\n",
    "system_prompt_template = prompt_template_from_json(\"danish_story_writer\")\n",
    "story_prompt_template = prompt_template_from_json(\"initial_story_prompt\")\n",
    "story_prompt = story_prompt_template.format(theme=theme)\n"
   ]
  },
  {
   "cell_type": "code",
   "execution_count": 22,
   "metadata": {},
   "outputs": [
    {
     "data": {
      "text/plain": [
       "'Du er en dansk bÃ¸rnbogsforfatter der skriver bÃ¸ger for at lÃ¦re bÃ¸rn at lÃ¦se. Du skriver altid pÃ¥ Dansk og er opmrÃ¦ksom pÃ¥ at bruge korrekt danske grammatik.'"
      ]
     },
     "execution_count": 22,
     "metadata": {},
     "output_type": "execute_result"
    }
   ],
   "source": [
    "system_prompt_template.format()\n"
   ]
  }
 ],
 "metadata": {
  "kernelspec": {
   "display_name": "llm",
   "language": "python",
   "name": "python3"
  },
  "language_info": {
   "codemirror_mode": {
    "name": "ipython",
    "version": 3
   },
   "file_extension": ".py",
   "mimetype": "text/x-python",
   "name": "python",
   "nbconvert_exporter": "python",
   "pygments_lexer": "ipython3",
   "version": "3.12.7"
  }
 },
 "nbformat": 4,
 "nbformat_minor": 2
}
